{
  "nbformat": 4,
  "nbformat_minor": 0,
  "metadata": {
    "colab": {
      "name": "Data Augmentation.ipynb",
      "provenance": [],
      "collapsed_sections": []
    },
    "kernelspec": {
      "name": "python3",
      "display_name": "Python 3"
    },
    "accelerator": "GPU"
  },
  "cells": [
    {
      "cell_type": "markdown",
      "metadata": {
        "id": "uw1qBtVRbI0W"
      },
      "source": [
        "# Data Augmentation using python and keras"
      ]
    },
    {
      "cell_type": "code",
      "metadata": {
        "id": "ZAIfq83FxKt6"
      },
      "source": [
        "from keras.preprocessing.image import ImageDataGenerator,array_to_img,img_to_array,load_img\n",
        "datagen=ImageDataGenerator(\n",
        "    rotation_range=40,\n",
        "    width_shift_range=0.2,\n",
        "    height_shift_range=0.2,\n",
        "    shear_range=0.2,\n",
        "    zoom_range=0.2,\n",
        "    horizontal_flip=True,\n",
        "    fill_mode='nearest'\n",
        ")\n"
      ],
      "execution_count": 1,
      "outputs": []
    },
    {
      "cell_type": "code",
      "metadata": {
        "id": "wltOLOVvkgJk"
      },
      "source": [
        "img=load_img('/content/drive/My Drive/Data Augmenation/cat_or_dog.jpg') ## this is a PIL image\n",
        "x=img_to_array(img) ## this is numpy with shape(3,150,150)\n",
        "x=x.reshape((1,)+ x.shape)  # this is a numpy array with shape(1,3,150,150)\n",
        "\n",
        "# the .flow() command below generates batches of randomly transformed images\n",
        "# and save the results to the preview/directory\n",
        "\n",
        "i=0\n",
        "for batch in datagen.flow(x,batch_size=1,\n",
        "                          save_to_dir='/content/drive/My Drive/preview/',save_prefix='cat',save_format='jpeg'):\n",
        "  i +=1\n",
        "  if i>20:\n",
        "    break # toherwise the generator would loop indefinitely"
      ],
      "execution_count": 3,
      "outputs": []
    },
    {
      "cell_type": "code",
      "metadata": {
        "id": "OkXTyjN6nE7d"
      },
      "source": [
        ""
      ],
      "execution_count": null,
      "outputs": []
    }
  ]
}